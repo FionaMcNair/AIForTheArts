{
 "cells": [
  {
   "cell_type": "markdown",
   "id": "03b9fff2",
   "metadata": {},
   "source": [
    "# Introduction to My Coding Notebook\n",
    "\n",
    "This notebook is part of my portfolio for the *AI for the Arts and Humanities* course. It's designed to help me learn and practice basic programming concepts using Python, GitHub Codespaces, and Copilot.\n",
    "\n",
    "I'll be exploring simple code examples and reflecting on what I learn along the way.\n",
    "\n",
    "---\n",
    "\n",
    "## What I Hope to Achieve\n",
    "\n",
    "- Understand how to write and run basic Python code\n",
    "- Learn how to use variables, functions, loops, and data structures\n",
    "- Build confidence in navigating and using Jupyter Notebooks\n",
    "- Get comfortable with GitHub and the GitHub Flow\n",
    "- Use AI tools like Copilot to support and accelerate my learning\n",
    "- Try applying code to something creative or arts-related"
   ]
  },
  {
   "cell_type": "code",
   "execution_count": 1,
   "id": "b536dd72",
   "metadata": {},
   "outputs": [
    {
     "name": "stdout",
     "output_type": "stream",
     "text": [
      "Hello, World!\n"
     ]
    }
   ],
   "source": [
    "print(\"Hello, World!\")"
   ]
  },
  {
   "cell_type": "markdown",
   "id": "42a1ea56",
   "metadata": {},
   "source": [
    "# 1. Printing with Variables\n",
    "\n",
    "**Prompt to Copilot:**  \n",
    "\"Can you write a Python program that uses a variable to store a name, and then prints a greeting like 'Hello, [name]!'? Please explain each line of the code step-by-step for someone who is new to programming.\"\n",
    "\n",
    "**What I Learned:**  \n",
    "- How to create and use variables  \n",
    "- How the `print()` function can combine text with a variable  \n",
    "- That strings (text in quotes) can be stored and reused  \n"
   ]
  },
  {
   "cell_type": "code",
   "execution_count": 2,
   "id": "e733c25a",
   "metadata": {},
   "outputs": [
    {
     "name": "stdout",
     "output_type": "stream",
     "text": [
      "Hello, Fiona!\n"
     ]
    }
   ],
   "source": [
    "name = \"Fiona\"\n",
    "print(\"Hello, \" + name + \"!\")\n"
   ]
  },
  {
   "cell_type": "markdown",
   "id": "b8b3fad2",
   "metadata": {},
   "source": [
    "# 2. Variables Expanded\n",
    "\n",
    "###  Follow-up Prompt to Copilot\n",
    "**\"Can you write a version that asks the user to input their name and then greets them using a variable?\"**\n",
    "\n",
    "### 💡 Copilot's Response"
   ]
  },
  {
   "cell_type": "code",
   "execution_count": 3,
   "id": "ebc6c295",
   "metadata": {},
   "outputs": [
    {
     "name": "stdout",
     "output_type": "stream",
     "text": [
      "Hello, Fiona!\n"
     ]
    }
   ],
   "source": [
    "name = input(\"Please enter your name: \")\n",
    "print(\"Hello, \" + name + \"!\")"
   ]
  },
  {
   "cell_type": "markdown",
   "id": "a32bd165",
   "metadata": {},
   "source": [
    "# 3. Using Numbers in Variables\n",
    "\n",
    "###  Follow-up Prompt to Copilot\n",
    "**\"What happens if I assign a number instead of a string to the variable?\"**\n",
    "\n",
    "### Copilot's Response\n",
    "\n",
    "```python\n",
    "name = 123\n",
    "print(\"Hello, \" + name + \"!\")"
   ]
  },
  {
   "cell_type": "code",
   "execution_count": null,
   "id": "d2799b04",
   "metadata": {},
   "outputs": [],
   "source": [
    "name = 123\n",
    "print(\"Hello, \" + str(name) + \"!\")\n",
    "\n"
   ]
  },
  {
   "cell_type": "markdown",
   "id": "077c3fdb",
   "metadata": {},
   "source": [
    "# 4. Functions\n",
    "\n",
    "**Prompt to Copilot:**\n",
    "Could you suggest a modification of the Python code for “Hello, \n",
    "world!” to demonstrate the concept of functions to a complete beginner in \n",
    "programming? Please explain the code step-by-step highlighting any key \n",
    "aspects. \n",
    "\n",
    "---\n",
    "\n",
    "**What I’ve Learned**\n",
    "\n",
    "- I now understand how to define and call functions in Python using `def`.\n",
    "- Functions allow me to reuse code and keep things organised, especially as programs get longer.\n",
    "- Indentation is really important in Python - it tells the program what’s part of a function.\n",
    "- I learned that a function won’t run unless it’s explicitly called, which gives you control over when code executes.\n",
    "- Copilot helped by giving clear line-by-line explanations, which made it easier to understand why the code works.\n"
   ]
  },
  {
   "cell_type": "code",
   "execution_count": 1,
   "id": "6111321e",
   "metadata": {},
   "outputs": [
    {
     "name": "stdout",
     "output_type": "stream",
     "text": [
      "Hello, world!\n"
     ]
    }
   ],
   "source": [
    "# Define a function named greet\n",
    "def greet():\n",
    "    # This function prints \"Hello, world!\" to the console\n",
    "    print(\"Hello, world!\")\n",
    "\n",
    "# Call the greet function to execute its code\n",
    "greet()\n"
   ]
  },
  {
   "cell_type": "markdown",
   "id": "6e73106f",
   "metadata": {},
   "source": [
    "# Exploring follow up Prompts\n",
    "\n",
    "**Prompt**: \"Can I call the same function multiple times?\"\n",
    "**Copilot Response**: \"Absolutely! You can call the same function as many times as you need.\""
   ]
  },
  {
   "cell_type": "code",
   "execution_count": 2,
   "id": "09bb706b",
   "metadata": {},
   "outputs": [
    {
     "name": "stdout",
     "output_type": "stream",
     "text": [
      "Hello, world!\n",
      "Hello, world!\n",
      "Hello, world!\n"
     ]
    }
   ],
   "source": [
    "# Define the function named greet\n",
    "def greet():\n",
    "    # This function prints \"Hello, world!\" to the console\n",
    "    print(\"Hello, world!\")\n",
    "\n",
    "# Call the greet function three times\n",
    "greet()\n",
    "greet()\n",
    "greet()\n"
   ]
  },
  {
   "cell_type": "markdown",
   "id": "0be2a59c",
   "metadata": {},
   "source": [
    "**Prompt**: \"Can a function return a value instead of just printing something?\"\n",
    "**Copilot Response**: \"Yes, a function can return a value instead of just printing something. This is useful when you want to use the result of the function in other parts of your code.\""
   ]
  },
  {
   "cell_type": "code",
   "execution_count": 3,
   "id": "c907908c",
   "metadata": {},
   "outputs": [
    {
     "name": "stdout",
     "output_type": "stream",
     "text": [
      "8\n"
     ]
    }
   ],
   "source": [
    "# Define a function named add_numbers that takes two parameters\n",
    "def add_numbers(a, b):\n",
    "    # This function returns the sum of a and b\n",
    "    return a + b\n",
    "\n",
    "# Call the add_numbers function and store the result in a variable\n",
    "result = add_numbers(5, 3)\n",
    "\n",
    "# Print the result\n",
    "print(result)\n"
   ]
  },
  {
   "cell_type": "markdown",
   "id": "1cdb907f",
   "metadata": {},
   "source": [
    "# 5. Arrays (Lists) and Loops in Python\n",
    "\n",
    "### Prompt to Copilot\n",
    "**\"Could you suggest a modification of the Python code for 'Hello, world!' to demonstrate the concept of arrays to a complete beginner in programming? Please explain the code step-by-step highlighting any key aspects.\"**\n",
    "\n",
    "---\n",
    "\n",
    "**What I’ve Learned**\n",
    "\n",
    "- Python uses lists to store multiple values like a group of messages or names.\n",
    "\n",
    "- The for loop is a simple way to repeat actions for each item in a list.\n",
    "\n",
    "- Indentation is important — Python uses it to show what code belongs inside a loop.\n"
   ]
  },
  {
   "cell_type": "code",
   "execution_count": 4,
   "id": "af8b6bba",
   "metadata": {},
   "outputs": [
    {
     "name": "stdout",
     "output_type": "stream",
     "text": [
      "Hello, world!\n",
      "Hi there!\n",
      "Greetings!\n",
      "Salutations!\n",
      "Howdy!\n"
     ]
    }
   ],
   "source": [
    "# Define a list (array) of greetings\n",
    "greetings = [\"Hello, world!\", \"Hi there!\", \"Greetings!\", \"Salutations!\", \"Howdy!\"]\n",
    "\n",
    "# Loop through each greeting in the list and print it\n",
    "for greeting in greetings:\n",
    "    print(greeting)\n"
   ]
  },
  {
   "cell_type": "markdown",
   "id": "fa980bbe",
   "metadata": {},
   "source": [
    "**Follow up Question:** \"How can I store both a greeting and a name in each item and combine them in the output?\"\n",
    "**Copilot Response:** \"You can store both a greeting and a name in each item by using tuples or dictionaries.\""
   ]
  },
  {
   "cell_type": "code",
   "execution_count": 5,
   "id": "dc39bd44",
   "metadata": {},
   "outputs": [
    {
     "name": "stdout",
     "output_type": "stream",
     "text": [
      "Hello, Alice!\n",
      "Hi, Bob!\n",
      "Greetings, Charlie!\n",
      "Salutations, Dana!\n",
      "Howdy, Eve!\n"
     ]
    }
   ],
   "source": [
    "# Define a list of tuples, each containing a greeting and a name\n",
    "greetings_and_names = [(\"Hello\", \"Alice\"), (\"Hi\", \"Bob\"), (\"Greetings\", \"Charlie\"), (\"Salutations\", \"Dana\"), (\"Howdy\", \"Eve\")]\n",
    "\n",
    "# Loop through each tuple in the list and combine the greeting and name in the output\n",
    "for greeting, name in greetings_and_names:\n",
    "    print(f\"{greeting}, {name}!\")\n"
   ]
  },
  {
   "cell_type": "markdown",
   "id": "1b334ab3",
   "metadata": {},
   "source": [
    "**Follow up Question:** \"Is it possible to randomise the name and the greeting displayed in the output?\"\n",
    "**Copilot Response:** \"Yes, it's definitely possible to randomize the name and greeting using the random module in Python.\""
   ]
  },
  {
   "cell_type": "code",
   "execution_count": 7,
   "id": "eae306d6",
   "metadata": {},
   "outputs": [
    {
     "name": "stdout",
     "output_type": "stream",
     "text": [
      "Greetings, Charlie!\n",
      "Salutations, Eve!\n",
      "Howdy, Alice!\n",
      "Hi, Bob!\n",
      "Hello, Dana!\n"
     ]
    }
   ],
   "source": [
    "import random\n",
    "\n",
    "# Define a list of greetings and a list of names\n",
    "greetings = [\"Hello\", \"Hi\", \"Greetings\", \"Salutations\", \"Howdy\"]\n",
    "names = [\"Alice\", \"Bob\", \"Charlie\", \"Dana\", \"Eve\"]\n",
    "\n",
    "# Shuffle the lists to randomize the order\n",
    "random.shuffle(greetings)\n",
    "random.shuffle(names)\n",
    "\n",
    "# Loop through the lists and combine the greeting and name in the output\n",
    "for i in range(min(len(greetings), len(names))):\n",
    "    print(f\"{greetings[i]}, {names[i]}!\")\n"
   ]
  },
  {
   "cell_type": "markdown",
   "id": "6e520cda",
   "metadata": {},
   "source": [
    "# 6. Operators in Python: Strings and Numbers\n",
    "\n",
    "### 🔹 Prompt to Copilot\n",
    "**\"Could you suggest a modification of the Python code for 'Hello, world!' to demonstrate the concept of operators to a complete beginner in programming? Please explain the code step-by-step highlighting any key aspects. Include discussions about addition and multiplication between strings and numbers.\"**\n",
    "\n",
    "---\n",
    "\n",
    "**What I Learned:**\n",
    "- The + operator has two meanings in Python: It adds numbers (math), and it joins strings (text).\n",
    "\n",
    "- The * operator: Multiplies numbers, or repeats strings (when multiplied by a number).\n",
    "\n",
    "- Python is context-aware: it knows what + and * mean depending on what data types you’re using."
   ]
  },
  {
   "cell_type": "code",
   "execution_count": 8,
   "id": "7168057f",
   "metadata": {},
   "outputs": [
    {
     "name": "stdout",
     "output_type": "stream",
     "text": [
      "Using addition: Hello, world!!\n",
      "Using multiplication on strings: !!!\n",
      "Using addition with numbers: 15\n",
      "Using multiplication with numbers: 50\n"
     ]
    }
   ],
   "source": [
    "#addition and multiplication operators\n",
    "greeting = \"Hello\"\n",
    "punctuation = \", world!\"\n",
    "exclamation = \"!\"\n",
    "\n",
    "# Using addition to combine strings\n",
    "message = greeting + punctuation + exclamation\n",
    "print(\"Using addition:\", message)\n",
    "\n",
    "# Using multiplication to repeat strings\n",
    "repeat_message = exclamation * 3\n",
    "print(\"Using multiplication on strings:\", repeat_message)\n",
    "\n",
    "# Using addition with numbers\n",
    "num1 = 10\n",
    "num2 = 5\n",
    "sum_result = num1 + num2\n",
    "print(\"Using addition with numbers:\", sum_result)\n",
    "\n",
    "# Using multiplication with numbers\n",
    "multiply_result = num1 * num2\n",
    "print(\"Using multiplication with numbers:\", multiply_result)"
   ]
  }
 ],
 "metadata": {
  "kernelspec": {
   "display_name": "Python 3",
   "language": "python",
   "name": "python3"
  },
  "language_info": {
   "codemirror_mode": {
    "name": "ipython",
    "version": 3
   },
   "file_extension": ".py",
   "mimetype": "text/x-python",
   "name": "python",
   "nbconvert_exporter": "python",
   "pygments_lexer": "ipython3",
   "version": "3.12.1"
  }
 },
 "nbformat": 4,
 "nbformat_minor": 5
}
