{
 "cells": [
  {
   "cell_type": "markdown",
   "id": "03b9fff2",
   "metadata": {},
   "source": [
    "# Introduction to My Coding Notebook\n",
    "\n",
    "This notebook is part of my portfolio for the *AI for the Arts and Humanities* course. It's designed to help me learn and practice basic programming concepts using Python, GitHub Codespaces, and Copilot.\n",
    "\n",
    "I'll be exploring simple code examples and reflecting on what I learn along the way.\n",
    "\n",
    "---\n",
    "\n",
    "## What I Hope to Achieve\n",
    "\n",
    "- Understand how to write and run basic Python code\n",
    "- Learn how to use variables, functions, loops, and data structures\n",
    "- Build confidence in navigating and using Jupyter Notebooks\n",
    "- Get comfortable with GitHub and the GitHub Flow\n",
    "- Use AI tools like Copilot to support and accelerate my learning\n",
    "- Try applying code to something creative or arts-related"
   ]
  },
  {
   "cell_type": "code",
   "execution_count": 1,
   "id": "b536dd72",
   "metadata": {},
   "outputs": [
    {
     "name": "stdout",
     "output_type": "stream",
     "text": [
      "Hello, World!\n"
     ]
    }
   ],
   "source": [
    "print(\"Hello, World!\")"
   ]
  },
  {
   "cell_type": "markdown",
   "id": "42a1ea56",
   "metadata": {},
   "source": [
    "# 1. Printing with Variables\n",
    "\n",
    "**Prompt to Copilot:**  \n",
    "\"Can you write a Python program that uses a variable to store a name, and then prints a greeting like 'Hello, [name]!'? Please explain each line of the code step-by-step for someone who is new to programming.\"\n",
    "\n",
    "**What I Learned:**  \n",
    "- How to create and use variables  \n",
    "- How the `print()` function can combine text with a variable  \n",
    "- That strings (text in quotes) can be stored and reused  \n"
   ]
  },
  {
   "cell_type": "code",
   "execution_count": 2,
   "id": "e733c25a",
   "metadata": {},
   "outputs": [
    {
     "name": "stdout",
     "output_type": "stream",
     "text": [
      "Hello, Fiona!\n"
     ]
    }
   ],
   "source": [
    "name = \"Fiona\"\n",
    "print(\"Hello, \" + name + \"!\")\n"
   ]
  },
  {
   "cell_type": "markdown",
   "id": "b8b3fad2",
   "metadata": {},
   "source": [
    "# 2. Variables Expanded\n",
    "\n",
    "###  Follow-up Prompt to Copilot:\n",
    "**\"Can you write a version that asks the user to input their name and then greets them using a variable?\"**\n",
    "\n",
    "### Copilot's Response:"
   ]
  },
  {
   "cell_type": "code",
   "execution_count": 3,
   "id": "ebc6c295",
   "metadata": {},
   "outputs": [
    {
     "name": "stdout",
     "output_type": "stream",
     "text": [
      "Hello, Fiona!\n"
     ]
    }
   ],
   "source": [
    "name = input(\"Please enter your name: \")\n",
    "print(\"Hello, \" + name + \"!\")"
   ]
  },
  {
   "cell_type": "markdown",
   "id": "a32bd165",
   "metadata": {},
   "source": [
    "# 3. Using Numbers in Variables\n",
    "\n",
    "###  Follow-up Prompt to Copilot:\n",
    "**\"What happens if I assign a number instead of a string to the variable?\"**\n",
    "\n",
    "### Copilot's Response:\n",
    "\n",
    "```python\n",
    "name = 123\n",
    "print(\"Hello, \" + name + \"!\")"
   ]
  },
  {
   "cell_type": "code",
   "execution_count": null,
   "id": "d2799b04",
   "metadata": {},
   "outputs": [],
   "source": [
    "name = 123\n",
    "print(\"Hello, \" + str(name) + \"!\")\n",
    "\n"
   ]
  },
  {
   "cell_type": "markdown",
   "id": "077c3fdb",
   "metadata": {},
   "source": [
    "# 4. Functions\n",
    "\n",
    "**Prompt to Copilot:**\n",
    "Could you suggest a modification of the Python code for “Hello, \n",
    "world!” to demonstrate the concept of functions to a complete beginner in \n",
    "programming? Please explain the code step-by-step highlighting any key \n",
    "aspects. \n",
    "\n",
    "---\n",
    "\n",
    "**What I’ve Learned:**\n",
    "\n",
    "- I now understand how to define and call functions in Python using `def`.\n",
    "- Functions allow me to reuse code and keep things organised, especially as programs get longer.\n",
    "- Indentation is really important in Python - it tells the program what’s part of a function.\n",
    "- I learned that a function won’t run unless it’s explicitly called, which gives you control over when code executes.\n",
    "- Copilot helped by giving clear line-by-line explanations, which made it easier to understand why the code works.\n"
   ]
  },
  {
   "cell_type": "code",
   "execution_count": 1,
   "id": "6111321e",
   "metadata": {},
   "outputs": [
    {
     "name": "stdout",
     "output_type": "stream",
     "text": [
      "Hello, world!\n"
     ]
    }
   ],
   "source": [
    "# Define a function named greet\n",
    "def greet():\n",
    "    # This function prints \"Hello, world!\" to the console\n",
    "    print(\"Hello, world!\")\n",
    "\n",
    "# Call the greet function to execute its code\n",
    "greet()\n"
   ]
  },
  {
   "cell_type": "markdown",
   "id": "6e73106f",
   "metadata": {},
   "source": [
    "# Exploring follow up Prompts:\n",
    "\n",
    "**Prompt**: \"Can I call the same function multiple times?\"\n",
    "**Copilot Response**: \"Absolutely! You can call the same function as many times as you need.\""
   ]
  },
  {
   "cell_type": "code",
   "execution_count": 2,
   "id": "09bb706b",
   "metadata": {},
   "outputs": [
    {
     "name": "stdout",
     "output_type": "stream",
     "text": [
      "Hello, world!\n",
      "Hello, world!\n",
      "Hello, world!\n"
     ]
    }
   ],
   "source": [
    "# Define the function named greet\n",
    "def greet():\n",
    "    # This function prints \"Hello, world!\" to the console\n",
    "    print(\"Hello, world!\")\n",
    "\n",
    "# Call the greet function three times\n",
    "greet()\n",
    "greet()\n",
    "greet()\n"
   ]
  },
  {
   "cell_type": "markdown",
   "id": "0be2a59c",
   "metadata": {},
   "source": [
    "**Prompt**: \"Can a function return a value instead of just printing something?\"\n",
    "**Copilot Response**: \"Yes, a function can return a value instead of just printing something. This is useful when you want to use the result of the function in other parts of your code.\""
   ]
  },
  {
   "cell_type": "code",
   "execution_count": 3,
   "id": "c907908c",
   "metadata": {},
   "outputs": [
    {
     "name": "stdout",
     "output_type": "stream",
     "text": [
      "8\n"
     ]
    }
   ],
   "source": [
    "# Define a function named add_numbers that takes two parameters\n",
    "def add_numbers(a, b):\n",
    "    # This function returns the sum of a and b\n",
    "    return a + b\n",
    "\n",
    "# Call the add_numbers function and store the result in a variable\n",
    "result = add_numbers(5, 3)\n",
    "\n",
    "# Print the result\n",
    "print(result)\n"
   ]
  },
  {
   "cell_type": "markdown",
   "id": "1cdb907f",
   "metadata": {},
   "source": [
    "# 5. Arrays (Lists) and Loops in Python\n",
    "\n",
    "### Prompt to Copilot:\n",
    "**\"Could you suggest a modification of the Python code for 'Hello, world!' to demonstrate the concept of arrays to a complete beginner in programming? Please explain the code step-by-step highlighting any key aspects.\"**\n",
    "\n",
    "---\n",
    "\n",
    "**What I’ve Learned:**\n",
    "\n",
    "- Python uses lists to store multiple values like a group of messages or names.\n",
    "\n",
    "- The for loop is a simple way to repeat actions for each item in a list.\n",
    "\n",
    "- Indentation is important — Python uses it to show what code belongs inside a loop.\n"
   ]
  },
  {
   "cell_type": "code",
   "execution_count": 4,
   "id": "af8b6bba",
   "metadata": {},
   "outputs": [
    {
     "name": "stdout",
     "output_type": "stream",
     "text": [
      "Hello, world!\n",
      "Hi there!\n",
      "Greetings!\n",
      "Salutations!\n",
      "Howdy!\n"
     ]
    }
   ],
   "source": [
    "# Define a list (array) of greetings\n",
    "greetings = [\"Hello, world!\", \"Hi there!\", \"Greetings!\", \"Salutations!\", \"Howdy!\"]\n",
    "\n",
    "# Loop through each greeting in the list and print it\n",
    "for greeting in greetings:\n",
    "    print(greeting)\n"
   ]
  },
  {
   "cell_type": "markdown",
   "id": "fa980bbe",
   "metadata": {},
   "source": [
    "**Follow up Question:** \"How can I store both a greeting and a name in each item and combine them in the output?\"\n",
    "**Copilot Response:** \"You can store both a greeting and a name in each item by using tuples or dictionaries.\""
   ]
  },
  {
   "cell_type": "code",
   "execution_count": 5,
   "id": "dc39bd44",
   "metadata": {},
   "outputs": [
    {
     "name": "stdout",
     "output_type": "stream",
     "text": [
      "Hello, Alice!\n",
      "Hi, Bob!\n",
      "Greetings, Charlie!\n",
      "Salutations, Dana!\n",
      "Howdy, Eve!\n"
     ]
    }
   ],
   "source": [
    "# Define a list of tuples, each containing a greeting and a name\n",
    "greetings_and_names = [(\"Hello\", \"Alice\"), (\"Hi\", \"Bob\"), (\"Greetings\", \"Charlie\"), (\"Salutations\", \"Dana\"), (\"Howdy\", \"Eve\")]\n",
    "\n",
    "# Loop through each tuple in the list and combine the greeting and name in the output\n",
    "for greeting, name in greetings_and_names:\n",
    "    print(f\"{greeting}, {name}!\")\n"
   ]
  },
  {
   "cell_type": "markdown",
   "id": "1b334ab3",
   "metadata": {},
   "source": [
    "**Follow up Question:** \"Is it possible to randomise the name and the greeting displayed in the output?\"\n",
    "**Copilot Response:** \"Yes, it's definitely possible to randomize the name and greeting using the random module in Python.\""
   ]
  },
  {
   "cell_type": "code",
   "execution_count": 7,
   "id": "eae306d6",
   "metadata": {},
   "outputs": [
    {
     "name": "stdout",
     "output_type": "stream",
     "text": [
      "Greetings, Charlie!\n",
      "Salutations, Eve!\n",
      "Howdy, Alice!\n",
      "Hi, Bob!\n",
      "Hello, Dana!\n"
     ]
    }
   ],
   "source": [
    "import random\n",
    "\n",
    "# Define a list of greetings and a list of names\n",
    "greetings = [\"Hello\", \"Hi\", \"Greetings\", \"Salutations\", \"Howdy\"]\n",
    "names = [\"Alice\", \"Bob\", \"Charlie\", \"Dana\", \"Eve\"]\n",
    "\n",
    "# Shuffle the lists to randomize the order\n",
    "random.shuffle(greetings)\n",
    "random.shuffle(names)\n",
    "\n",
    "# Loop through the lists and combine the greeting and name in the output\n",
    "for i in range(min(len(greetings), len(names))):\n",
    "    print(f\"{greetings[i]}, {names[i]}!\")\n"
   ]
  },
  {
   "cell_type": "markdown",
   "id": "6e520cda",
   "metadata": {},
   "source": [
    "# 6. Operators in Python: Strings and Numbers\n",
    "\n",
    "### Prompt to Copilot:\n",
    "**\"Could you suggest a modification of the Python code for 'Hello, world!' to demonstrate the concept of operators to a complete beginner in programming? Please explain the code step-by-step highlighting any key aspects. Include discussions about addition and multiplication between strings and numbers.\"**\n",
    "\n",
    "---\n",
    "\n",
    "**What I Learned:**\n",
    "- The + operator has two meanings in Python: It adds numbers (math), and it joins strings (text).\n",
    "\n",
    "- The * operator: Multiplies numbers, or repeats strings (when multiplied by a number).\n",
    "\n",
    "- Python is context-aware: it knows what + and * mean depending on what data types you’re using."
   ]
  },
  {
   "cell_type": "code",
   "execution_count": 8,
   "id": "7168057f",
   "metadata": {},
   "outputs": [
    {
     "name": "stdout",
     "output_type": "stream",
     "text": [
      "Using addition: Hello, world!!\n",
      "Using multiplication on strings: !!!\n",
      "Using addition with numbers: 15\n",
      "Using multiplication with numbers: 50\n"
     ]
    }
   ],
   "source": [
    "#addition and multiplication operators\n",
    "greeting = \"Hello\"\n",
    "punctuation = \", world!\"\n",
    "exclamation = \"!\"\n",
    "\n",
    "# Using addition to combine strings\n",
    "message = greeting + punctuation + exclamation\n",
    "print(\"Using addition:\", message)\n",
    "\n",
    "# Using multiplication to repeat strings\n",
    "repeat_message = exclamation * 3\n",
    "print(\"Using multiplication on strings:\", repeat_message)\n",
    "\n",
    "# Using addition with numbers\n",
    "num1 = 10\n",
    "num2 = 5\n",
    "sum_result = num1 + num2\n",
    "print(\"Using addition with numbers:\", sum_result)\n",
    "\n",
    "# Using multiplication with numbers\n",
    "multiply_result = num1 * num2\n",
    "print(\"Using multiplication with numbers:\", multiply_result)"
   ]
  },
  {
   "cell_type": "markdown",
   "id": "41ecb990",
   "metadata": {},
   "source": [
    "# 7. Classes, Objects, and Methods in Python\n",
    "\n",
    "### Prompt to Copilot:\n",
    "**\"Could you suggest a modification of the Python code for 'Hello, world!' to demonstrate the concept of classes, objects and methods to a complete beginner in programming? Please explain the code step-by-step highlighting any key aspects.\"**\n",
    "\n",
    "---\n",
    "\n",
    "**What I Learned:**\n",
    "- Classes define templates for creating objects with specific properties and behaviors.\n",
    "\n",
    "- Objects are instances of classes — they store data and have access to methods.\n",
    "\n",
    "- The __init__ method initializes the object's data.\n",
    "\n",
    "- Methods like create_message() and display_message() perform actions using that data."
   ]
  },
  {
   "cell_type": "code",
   "execution_count": 9,
   "id": "f4e591be",
   "metadata": {},
   "outputs": [
    {
     "name": "stdout",
     "output_type": "stream",
     "text": [
      "Using the 'create_message' method:\n",
      "Hello, world!\n",
      "\n",
      "Using the 'display_message' method:\n",
      "Hello, world!\n"
     ]
    }
   ],
   "source": [
    "# Defining a class\n",
    "class HelloWorld:\n",
    "    def __init__(self, greeting, punctuation):\n",
    "        # Initializing attributes\n",
    "        self.greeting = greeting\n",
    "        self.punctuation = punctuation\n",
    "\n",
    "    def create_message(self):\n",
    "        # Method to create the full message\n",
    "        return self.greeting + self.punctuation\n",
    "\n",
    "    def display_message(self):\n",
    "        # Method to print the message\n",
    "        print(self.create_message())\n",
    "\n",
    "# Creating an object of the class\n",
    "message_object = HelloWorld(\"Hello, world\", \"!\")\n",
    "\n",
    "# Using the object to call methods\n",
    "print(\"Using the 'create_message' method:\")\n",
    "print(message_object.create_message())\n",
    "\n",
    "print(\"\\nUsing the 'display_message' method:\")\n",
    "message_object.display_message()"
   ]
  },
  {
   "cell_type": "markdown",
   "id": "5644a33c",
   "metadata": {},
   "source": [
    "### Prompt to Copilot to compare:\n",
    "**\"Could you suggest a modification of the Python code for 'Hello, world!' to demonstrate the concept of classes, objects and methods to a confident coder who wants to reinforce their understanding of OOP principles? Please explain the code step-by-step highlighting key aspects like initialization, method calling, and modular structure.\"**\n",
    "\n",
    "---\n",
    "\n",
    "**Copilot Response:** \"Certainly! Here’s a modification of the classic \"Hello, world!\" program that dives deeper into Object-Oriented Programming (OOP) principles, designed for a confident coder looking to reinforce their understanding. We'll explore initialization, method calling, modular structure, encapsulation, and inheritance.\""
   ]
  },
  {
   "cell_type": "code",
   "execution_count": 1,
   "id": "935e7172",
   "metadata": {},
   "outputs": [
    {
     "name": "stdout",
     "output_type": "stream",
     "text": [
      "Basic Message:\n",
      "Hello, world! Hello, world! \n",
      "\n",
      "Excited Message:\n",
      "Hey there!!!!!Hey there!!!!!Hey there!!!!!\n",
      "\n",
      "Modified Basic Message:\n",
      "Greetings Greetings \n"
     ]
    }
   ],
   "source": [
    "# hello_world_module.py\n",
    "# Modular design: Separate class into its own file for reuse\n",
    "class HelloWorld:\n",
    "    def __init__(self, message=\"Hello, world!\", repeat=1):\n",
    "        # Attributes: Message content and repetition count\n",
    "        self._message = message  # Encapsulation: Private attribute (convention)\n",
    "        self._repeat = repeat\n",
    "\n",
    "    def get_message(self):\n",
    "        # Getter method: Access private attributes\n",
    "        return self._message\n",
    "\n",
    "    def set_message(self, new_message):\n",
    "        # Setter method: Modify private attributes\n",
    "        self._message = new_message\n",
    "\n",
    "    def display_message(self):\n",
    "        # Display the message repeatedly\n",
    "        return (self._message + \" \") * self._repeat\n",
    "\n",
    "\n",
    "# Inheritance: Subclass that extends HelloWorld\n",
    "class ExcitedHelloWorld(HelloWorld):\n",
    "    def __init__(self, message=\"Hello, world!\", repeat=1, excitement_level=1):\n",
    "        super().__init__(message, repeat)\n",
    "        self.excitement_level = excitement_level\n",
    "\n",
    "    def display_message(self):\n",
    "        # Override method: Add excitement level\n",
    "        return (self.get_message() + \"!\" * self.excitement_level) * self._repeat\n",
    "\n",
    "\n",
    "# main.py\n",
    "# Import the module and use the classes\n",
    "from hello_world_module import HelloWorld, ExcitedHelloWorld\n",
    "\n",
    "# Creating objects\n",
    "basic_message = HelloWorld(repeat=2)\n",
    "excited_message = ExcitedHelloWorld(message=\"Hey there\", repeat=3, excitement_level=5)\n",
    "\n",
    "# Using objects and methods\n",
    "print(\"Basic Message:\")\n",
    "print(basic_message.display_message())\n",
    "\n",
    "print(\"\\nExcited Message:\")\n",
    "print(excited_message.display_message())\n",
    "\n",
    "# Demonstrating encapsulation\n",
    "basic_message.set_message(\"Greetings\")\n",
    "print(\"\\nModified Basic Message:\")\n",
    "print(basic_message.display_message())"
   ]
  },
  {
   "cell_type": "markdown",
   "id": "79e6f8ea",
   "metadata": {},
   "source": [
    "| **Aspect**                     | **Beginner Version**                                             | **Confident Coder Version**                                                                              |\n",
    "|----------------------------------|------------------------------------------------------------------|----------------------------------------------------------------------------------------------------------|\n",
    "| **Structure**                    | All in one script (simple, flat)                                | Modular: `hello_world_module.py` and `main.py`                                                           |\n",
    "| **Focus**                        | Intro to class, methods, objects                                | Deep dive: encapsulation, inheritance, polymorphism                                                      |\n",
    "| **Initialization**              | Simple constructor with 2 parameters                            | Constructor with default arguments, private-like variables (`_message`, `_repeat`)                       |\n",
    "| **Encapsulation**               | Not included                                                    | Uses **getters** and **setters** for attribute control                                                |\n",
    "| **Method Types**                | Basic instance methods                                          | Getter, setter, and **overridden** method in subclass                                                    |\n",
    "| **Inheritance**                 | Not included                                                  | Subclassing via `ExcitedHelloWorld`, showing method extension and override                             |\n",
    "| **Terminology**                 | Beginner-friendly language                                      | Uses confident coder vocabulary: *modular design*, *polymorphism*, *encapsulation*, *super()*            |\n",
    "| **Realism**                     | Educational and beginner-focused                                | Closer to real-world OOP usage and best practices                                                        |\n",
    "| **Output Style**                | Basic printed message                                           | Layered output with message customization and method chaining                                             |\n",
    "| **Level-Up Value**              | Great intro for first-time exposure                             | Ideal for demonstrating depth of understanding and progression toward intermediate coding competence     |\n"
   ]
  },
  {
   "cell_type": "code",
   "execution_count": null,
   "id": "84bb80c4",
   "metadata": {},
   "outputs": [],
   "source": [
    "from IPython.display import *"
   ]
  },
  {
   "cell_type": "code",
   "execution_count": null,
   "id": "b4f991e6",
   "metadata": {},
   "outputs": [],
   "source": [
    "YouTubeVideo(\"C535gMNdiDk\")"
   ]
  }
 ],
 "metadata": {
  "kernelspec": {
   "display_name": "Python 3",
   "language": "python",
   "name": "python3"
  },
  "language_info": {
   "codemirror_mode": {
    "name": "ipython",
    "version": 3
   },
   "file_extension": ".py",
   "mimetype": "text/x-python",
   "name": "python",
   "nbconvert_exporter": "python",
   "pygments_lexer": "ipython3",
   "version": "3.12.1"
  }
 },
 "nbformat": 4,
 "nbformat_minor": 5
}
