{
 "cells": [
  {
   "cell_type": "markdown",
   "id": "03b9fff2",
   "metadata": {},
   "source": [
    "# Introduction to My Coding Notebook\n",
    "\n",
    "This notebook is part of my portfolio for the *AI for the Arts and Humanities* course. It's designed to help me learn and practice basic programming concepts using Python, GitHub Codespaces, and Copilot.\n",
    "\n",
    "I'll be exploring simple code examples and reflecting on what I learn along the way.\n",
    "\n",
    "---\n",
    "\n",
    "## What I Hope to Achieve\n",
    "\n",
    "- Understand how to write and run basic Python code\n",
    "- Learn how to use variables, functions, loops, and data structures\n",
    "- Build confidence in navigating and using Jupyter Notebooks\n",
    "- Get comfortable with GitHub and the GitHub Flow\n",
    "- Use AI tools like Copilot to support and accelerate my learning\n",
    "- Try applying code to something creative or arts-related"
   ]
  },
  {
   "cell_type": "code",
   "execution_count": 1,
   "id": "b536dd72",
   "metadata": {},
   "outputs": [
    {
     "name": "stdout",
     "output_type": "stream",
     "text": [
      "Hello, World!\n"
     ]
    }
   ],
   "source": [
    "print(\"Hello, World!\")"
   ]
  },
  {
   "cell_type": "markdown",
   "id": "42a1ea56",
   "metadata": {},
   "source": [
    "# 1. Printing with Variables\n",
    "\n",
    "**Prompt to Copilot:**  \n",
    "\"Can you write a Python program that uses a variable to store a name, and then prints a greeting like 'Hello, [name]!'? Please explain each line of the code step-by-step for someone who is new to programming.\"\n",
    "\n",
    "**What I Learned:**  \n",
    "- How to create and use variables  \n",
    "- How the `print()` function can combine text with a variable  \n",
    "- That strings (text in quotes) can be stored and reused  \n"
   ]
  },
  {
   "cell_type": "code",
   "execution_count": 2,
   "id": "e733c25a",
   "metadata": {},
   "outputs": [
    {
     "name": "stdout",
     "output_type": "stream",
     "text": [
      "Hello, Fiona!\n"
     ]
    }
   ],
   "source": [
    "name = \"Fiona\"\n",
    "print(\"Hello, \" + name + \"!\")\n"
   ]
  },
  {
   "cell_type": "markdown",
   "id": "b8b3fad2",
   "metadata": {},
   "source": [
    "# 2. Variables Expanded\n",
    "\n",
    "###  Follow-up Prompt to Copilot\n",
    "**\"Can you write a version that asks the user to input their name and then greets them using a variable?\"**\n",
    "\n",
    "### 💡 Copilot's Response"
   ]
  },
  {
   "cell_type": "code",
   "execution_count": 3,
   "id": "ebc6c295",
   "metadata": {},
   "outputs": [
    {
     "name": "stdout",
     "output_type": "stream",
     "text": [
      "Hello, Fiona!\n"
     ]
    }
   ],
   "source": [
    "name = input(\"Please enter your name: \")\n",
    "print(\"Hello, \" + name + \"!\")"
   ]
  },
  {
   "cell_type": "markdown",
   "id": "a32bd165",
   "metadata": {},
   "source": [
    "# 3. Using Numbers in Variables\n",
    "\n",
    "###  Follow-up Prompt to Copilot\n",
    "**\"What happens if I assign a number instead of a string to the variable?\"**\n",
    "\n",
    "### Copilot's Response\n",
    "\n",
    "```python\n",
    "name = 123\n",
    "print(\"Hello, \" + name + \"!\")"
   ]
  },
  {
   "cell_type": "code",
   "execution_count": null,
   "id": "d2799b04",
   "metadata": {},
   "outputs": [],
   "source": [
    "name = 123\n",
    "print(\"Hello, \" + str(name) + \"!\")\n",
    "\n"
   ]
  },
  {
   "cell_type": "markdown",
   "id": "077c3fdb",
   "metadata": {},
   "source": [
    "# 4. Functions\n",
    "\n",
    "**Prompt to Copilot:**\n",
    "Could you suggest a modification of the Python code for “Hello, \n",
    "world!” to demonstrate the concept of functions to a complete beginner in \n",
    "programming? Please explain the code step-by-step highlighting any key \n",
    "aspects. \n",
    "\n",
    "---\n",
    "\n",
    "### 💬 Copilot's Suggested Code\n",
    "\n",
    "```python\n",
    "def greet():\n",
    "    print(\"Hello, world!\")\n",
    "\n",
    "greet()\n",
    "\n",
    "What I’ve Learned\n",
    "\n",
    "- I now understand how to **define and call functions** in Python using `def`.\n",
    "- Functions allow me to **reuse code** and keep things organized, especially as programs get longer.\n",
    "- **Indentation** is really important in Python — it tells the program what’s part of a function.\n",
    "- I learned that a function won’t run unless it’s **explicitly called**, which gives you control over when code executes.\n",
    "- Copilot helped by giving **clear line-by-line explanations**, which made it easier to understand why the code works.\n"
   ]
  },
  {
   "cell_type": "code",
   "execution_count": 1,
   "id": "6111321e",
   "metadata": {},
   "outputs": [
    {
     "name": "stdout",
     "output_type": "stream",
     "text": [
      "Hello, world!\n"
     ]
    }
   ],
   "source": [
    "# Define a function named greet\n",
    "def greet():\n",
    "    # This function prints \"Hello, world!\" to the console\n",
    "    print(\"Hello, world!\")\n",
    "\n",
    "# Call the greet function to execute its code\n",
    "greet()\n"
   ]
  }
 ],
 "metadata": {
  "kernelspec": {
   "display_name": "Python 3",
   "language": "python",
   "name": "python3"
  },
  "language_info": {
   "codemirror_mode": {
    "name": "ipython",
    "version": 3
   },
   "file_extension": ".py",
   "mimetype": "text/x-python",
   "name": "python",
   "nbconvert_exporter": "python",
   "pygments_lexer": "ipython3",
   "version": "3.12.1"
  }
 },
 "nbformat": 4,
 "nbformat_minor": 5
}
