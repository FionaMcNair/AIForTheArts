{
 "cells": [
  {
   "cell_type": "markdown",
   "id": "3c9165f3",
   "metadata": {},
   "source": [
    "## Final Notebook: Reflective Planner – A Weekly AI Check-In & Planning Tool\n",
    "\n",
    "**Reflective Planner** is a student-focused tool that uses a Large Language Model (LLM) to turn weekly tasks and moods into personalised and emotionally intelligent plans. It blends productivity with wellbeing, encouraging students to approach their week with structure and self-compassion.\n",
    "\n",
    "Users input a short to-do list and a description of how they feel. The LLM responds with a gentle breakdown of tasks, encouragement, and mindful reminders.\n",
    "\n",
    "This project concept resonates with me on a personal level, as it would for many other students, as I often find myself balancing deadlines, expectations, work commitments and a lack of motivation all at once. The concept of a planner that supports both productivity and emotional wellbeing felt especially relevant during this process.\n",
    "\n",
    "Designing this tool made me think about how AI can be used to encourage self-compassion while still helping us stay on track - something I think many students could benefit from."
   ]
  },
  {
   "cell_type": "markdown",
   "id": "683cb9ec",
   "metadata": {},
   "source": [
    "##  Interaction Design\n",
    "\n",
    "- **Human input:** Weekly tasks, a space to input dealines, workload, a space to input potential proffesional work rotas and emotional state.\n",
    "- **LLM response:** A suggested plan, as specific as required depending on amount of detail inputted, affirmations, and task breakdown with kindness built in.\n",
    "\n",
    "**Example Flow:**\n",
    "\n",
    "**Student:**  \n",
    "“I have an essay, group project, i'm behind on laundry, and I feel overwhelmed.”\n",
    "\n",
    "**AI Planner:**  \n",
    "“Let’s take it step-by-step. You can work from home when needed, Set up to do your work and Do short loads of laundry alongside it. Small steps matter — you’ve got this.”\n",
    "\n",
    "The tool could live inside a wellbeing app, a student planner, or browser extension.\n",
    "\n",
    "\n",
    "## 💻 Simulated Python Interaction\n",
    "\n",
    "Below is a basic example of how the Reflective Planner might work using a simulated GPT-style output based on user input.\n"
   ]
  },
  {
   "cell_type": "code",
   "execution_count": 2,
   "id": "f8f81996",
   "metadata": {},
   "outputs": [
    {
     "name": "stdout",
     "output_type": "stream",
     "text": [
      " Reflective Weekly Planner\n",
      "\n",
      "Hi! You mentioned you're currently feeling overwhelmed and stuck.\n",
      "Let's make this week feel a little more manageable.\n",
      "\n",
      "Here's a suggested breakdown:\n",
      "\n",
      "Monday:\n",
      "- Start Essay: just write the intro (25 minutes)\n",
      "- Do laundry while it renders — multitasking win\n",
      "\n",
      "Tuesday:\n",
      "- 30-minute group prep session\n",
      "- Email supervisor with one question (don't overthink it!)\n",
      "\n",
      "Reminder:\n",
      "You don’t need to finish everything today — just start.\n",
      "Progress is progress, even if it’s one paragraph or a clean sock.\n",
      "\n",
      "You’ve got this.\n",
      "\n"
     ]
    }
   ],
   "source": [
    "# Simulated input from a student\n",
    "tasks = [\n",
    "    \"Essay due on Friday\",\n",
    "    \"Group presentation prep\",\n",
    "    \"Laundry\",\n",
    "    \"Email supervisor\"\n",
    "]\n",
    "mood = \"feeling overwhelmed and stuck\"\n",
    "\n",
    "# Simulated AI response\n",
    "def reflective_planner_response(tasks, mood):\n",
    "    response = f\"\"\" Reflective Weekly Planner\n",
    "\n",
    "Hi! You mentioned you're currently {mood}.\n",
    "Let's make this week feel a little more manageable.\n",
    "\n",
    "Here's a suggested breakdown:\n",
    "\n",
    "Monday:\n",
    "- Start Essay: just write the intro (25 minutes)\n",
    "- Do laundry while it renders — multitasking win\n",
    "\n",
    "Tuesday:\n",
    "- 30-minute group prep session\n",
    "- Email supervisor with one question (don't overthink it!)\n",
    "\n",
    "Reminder:\n",
    "You don’t need to finish everything today — just start.\n",
    "Progress is progress, even if it’s one paragraph or a clean sock.\n",
    "\n",
    "You’ve got this.\n",
    "\"\"\"\n",
    "\n",
    "    return response\n",
    "\n",
    "# Generate and print the AI response\n",
    "print(reflective_planner_response(tasks, mood))\n"
   ]
  },
  {
   "cell_type": "markdown",
   "id": "f1d8cdae",
   "metadata": {},
   "source": [
    "##  Value for Learning, Inclusion, and Engagement\n",
    "\n",
    "- **Learning:** The Reflective Planner encourages essential academic skills like time management, prioritisation, and task breakdown, which, especially for newer university students is so essential - but does so through an emotionally intelligent lens. By integrating check-ins and supportive language, it teaches and helps students with how to plan realistically while also recognising and responding to their own mental state. This builds self-regulation and metacognition, that are both key for effective, sustainable learning.\n",
    "\n",
    "- **Inclusion:** Many students face invisible challenges that impact their ability to organise and perform — whether it’s neurodivergence (ADHD or autism), being the first in their family to attend university, facing finincial difficulties so having to work alongside studies or managing stress, fatigue, and/or anxiety. This tool offers a non-judgemental, personalised space that adapts to the student's capacity and supports self compassion. Its tone and flexibility are designed to feel supportive rather than prescriptive, helping more students feel seen and understood.\n",
    "\n",
    "- **Engagement:** By turning planning into a dialogue and not just a checklist, the tool transforms a task often associated with pressure into a moment of reflection and encouragement. Whether through soft affirmations or breaking down intimidating goals into manageable steps, it helps students reframe their week as a narrative they can shape. This approach fosters motivation, and emotional connection to academic life."
   ]
  },
  {
   "cell_type": "markdown",
   "id": "a0ecad24",
   "metadata": {},
   "source": [
    "## Critical Reflection: Social & Cultural Implications\n",
    "\n",
    "### Positives:\n",
    "\n",
    "**Encourages healthy planning habits and reduces pressure:**\n",
    "The Reflective Planner shifts the focus away from perfectionism and intense productivity toward realistic and compassionate goal setting. By helping students acknowledge their emotional state and adjust accordingly, it supports a more sustainable approach to academic life.\n",
    "\n",
    "**Supports students who struggle to ask for help:**\n",
    "Many students, especially those dealing with anxiety, imposter syndrome, or cultural pressures, may find it difficult to reach out to staff or peers. This tool offers a safe and confidential space for support and structure, allowing students to feel guided without needing to initiate difficult conversations or feeling like a burden.\n",
    "\n",
    "**Normalises emotional check-ins in academic environments:**\n",
    "Traditional academic culture often separates emotional wellbeing from performance. By integrating emotional awareness into planning, the tool helps normalise self-reflection as part of success — reinforcing that emotional and cognitive processes are connected, not in conflict.\n",
    "\n",
    "### ⚠️ Considerations:\n",
    "\n",
    "**AI must avoid generic or dismissive responses — tone matters:**\n",
    "Emotional intelligence is crucial. A poorly worded suggestion, fpr example, “Just get started!”, when someone is clearly overwhelmed could feel invalidating or even discouraging. Designing LLM prompts and outputs that prioritise empathy and adaptability is essential.\n",
    "\n",
    "**It should complement, not replace, mental health support:**\n",
    "While the tool can provide motivational nudges and reflective prompts, it should never be seen as a substitute for professional help. Clear messaging should reinforce that it’s a supplementary support, not a solution to complex wellbeing issues, and that if futher assistance is required details should be provided. For example if this was set up as pasrt of the Univeristy of Glasgow's Moodle, links to advising teams and nightline services should be provided.\n",
    "\n",
    "**Language and cultural context must be respected:**\n",
    "Students express stress and emotion in different ways depending on cultural, linguistic, and personal norms. The LLM must be designed or prompted to interpret input flexibly, avoid assumptions, and offer responses that are inclusive and sensitive to diverse student experiences."
   ]
  }
 ],
 "metadata": {
  "kernelspec": {
   "display_name": "Python 3",
   "language": "python",
   "name": "python3"
  },
  "language_info": {
   "codemirror_mode": {
    "name": "ipython",
    "version": 3
   },
   "file_extension": ".py",
   "mimetype": "text/x-python",
   "name": "python",
   "nbconvert_exporter": "python",
   "pygments_lexer": "ipython3",
   "version": "3.12.1"
  }
 },
 "nbformat": 4,
 "nbformat_minor": 5
}
