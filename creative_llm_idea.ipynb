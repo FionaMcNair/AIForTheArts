{
 "cells": [
  {
   "cell_type": "markdown",
   "id": "3c9165f3",
   "metadata": {},
   "source": [
    "## Final Notebook: Reflective Planner – A Weekly AI Check-In & Planning Tool\n",
    "\n",
    "**Reflective Planner** is a student-focused tool that uses a Large Language Model (LLM) to turn weekly tasks and moods into personalised and emotionally intelligent plans. It blends productivity with wellbeing, encouraging students to approach their week with structure and self-compassion.\n",
    "\n",
    "Users input a short to-do list and a description of how they feel. The LLM responds with a gentle breakdown of tasks, encouragement, and mindful reminders.\n",
    "\n",
    "This project concept resonates with me on a personal level, as it would for many other students, as I often find myself balancing deadlines, expectations, work commitments and a lack of motivation all at once. The concept of a planner that supports both productivity and emotional wellbeing felt especially relevant during this process.\n",
    "\n",
    "Designing this tool made me think about how AI can be used to encourage self-compassion while still helping us stay on track - something I think many students could benefit from."
   ]
  },
  {
   "cell_type": "markdown",
   "id": "683cb9ec",
   "metadata": {},
   "source": [
    "##  Interaction Design\n",
    "\n",
    "- **Human input:** Weekly tasks, a space to input dealines, workload, a space to input potential proffesional work rotas and emotional state.\n",
    "- **LLM response:** A suggested plan, as specific as required depending on amount of detail inputted, affirmations, and task breakdown with kindness built in.\n",
    "\n",
    "**Example Flow:**\n",
    "\n",
    "**Student:**  \n",
    "“I have an essay, group project, i'm behind on laundry, and I feel overwhelmed.”\n",
    "\n",
    "**AI Planner:**  \n",
    "“Let’s take it step-by-step. You can work from home when needed, Set up to do your work and Do short loads of laundry alongside it. Small steps matter — you’ve got this.”\n",
    "\n",
    "The tool could live inside a wellbeing app, a student planner, or browser extension.\n"
   ]
  },
  {
   "cell_type": "code",
   "execution_count": 2,
   "id": "f8f81996",
   "metadata": {},
   "outputs": [
    {
     "name": "stdout",
     "output_type": "stream",
     "text": [
      " Reflective Weekly Planner\n",
      "\n",
      "Hi! You mentioned you're currently feeling overwhelmed and stuck.\n",
      "Let's make this week feel a little more manageable.\n",
      "\n",
      "Here's a suggested breakdown:\n",
      "\n",
      "Monday:\n",
      "- Start Essay: just write the intro (25 minutes)\n",
      "- Do laundry while it renders — multitasking win\n",
      "\n",
      "Tuesday:\n",
      "- 30-minute group prep session\n",
      "- Email supervisor with one question (don't overthink it!)\n",
      "\n",
      "Reminder:\n",
      "You don’t need to finish everything today — just start.\n",
      "Progress is progress, even if it’s one paragraph or a clean sock.\n",
      "\n",
      "You’ve got this.\n",
      "\n"
     ]
    }
   ],
   "source": [
    "# Simulated input from a student\n",
    "tasks = [\n",
    "    \"Essay due on Friday\",\n",
    "    \"Group presentation prep\",\n",
    "    \"Laundry\",\n",
    "    \"Email supervisor\"\n",
    "]\n",
    "mood = \"feeling overwhelmed and stuck\"\n",
    "\n",
    "# Simulated AI response\n",
    "def reflective_planner_response(tasks, mood):\n",
    "    response = f\"\"\" Reflective Weekly Planner\n",
    "\n",
    "Hi! You mentioned you're currently {mood}.\n",
    "Let's make this week feel a little more manageable.\n",
    "\n",
    "Here's a suggested breakdown:\n",
    "\n",
    "Monday:\n",
    "- Start Essay: just write the intro (25 minutes)\n",
    "- Do laundry while it renders — multitasking win\n",
    "\n",
    "Tuesday:\n",
    "- 30-minute group prep session\n",
    "- Email supervisor with one question (don't overthink it!)\n",
    "\n",
    "Reminder:\n",
    "You don’t need to finish everything today — just start.\n",
    "Progress is progress, even if it’s one paragraph or a clean sock.\n",
    "\n",
    "You’ve got this.\n",
    "\"\"\"\n",
    "\n",
    "    return response\n",
    "\n",
    "# Generate and print the AI response\n",
    "print(reflective_planner_response(tasks, mood))\n"
   ]
  }
 ],
 "metadata": {
  "kernelspec": {
   "display_name": "Python 3",
   "language": "python",
   "name": "python3"
  },
  "language_info": {
   "codemirror_mode": {
    "name": "ipython",
    "version": 3
   },
   "file_extension": ".py",
   "mimetype": "text/x-python",
   "name": "python",
   "nbconvert_exporter": "python",
   "pygments_lexer": "ipython3",
   "version": "3.12.1"
  }
 },
 "nbformat": 4,
 "nbformat_minor": 5
}
